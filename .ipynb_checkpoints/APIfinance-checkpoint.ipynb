{
 "cells": [
  {
   "cell_type": "markdown",
   "id": "a94663de-6e2e-43b3-b075-32f6e7fa2c3f",
   "metadata": {},
   "source": [
    "# FINANCE NOTEBOOK\n",
    "##### AUTOR:LEANDRO SALTOS\n",
    "\n",
    "###### Construcción de una aplicación para el manejo automatizado de un portafolio financiero con YahooFinance."
   ]
  },
  {
   "cell_type": "markdown",
   "id": "ed44a039-7535-4ace-89fa-35f5fe5e097a",
   "metadata": {},
   "source": [
    "### Paqueterias"
   ]
  },
  {
   "cell_type": "code",
   "execution_count": 1,
   "id": "2758e323-7322-4105-9f85-ef9e1379deb6",
   "metadata": {},
   "outputs": [],
   "source": [
    "#Manejo de Datos\n",
    "import numpy as np\n",
    "import pandas as pd\n",
    "#Manipulación de Gráficos\n",
    "import matplotlib.pyplot as plt\n",
    "import seaborn as sns\n",
    "#Interacción con API de YahooFinance\n",
    "import yfinance as yf"
   ]
  },
  {
   "cell_type": "markdown",
   "id": "150cb666-b7be-413a-abc0-c5909499e723",
   "metadata": {},
   "source": [
    "### Construcción de Portafolio"
   ]
  },
  {
   "cell_type": "code",
   "execution_count": 10,
   "id": "f8a5f814-5330-43d4-a33f-27a813d13c83",
   "metadata": {},
   "outputs": [],
   "source": [
    "class portafolio:\n",
    "    def __init__(self,inputs):\n",
    "        \n",
    "        #Leer Parametros\n",
    "        self.inputs=inputs\n",
    "        pname=self.inputs['portfolio_name']\n",
    "        print(f'Portafolio Activo - {pname}- activo ')\n",
    "        \n",
    "        #Se descargan automaticamente los Ticks\n",
    "        self.ticks={}\n",
    "        self.download_ticks()\n",
    "        \n",
    "    #Descripcion de la Clase    \n",
    "    def __repr__(self):\n",
    "        return 'Portafolio Inteligente para la Manipulacion de Datos Financieros'\n",
    "    \n",
    "    #Mostrar información de los ticks del portafolio\n",
    "    def show_ticks(self):\n",
    "        for i in range(len(self.inputs['ticks'])):\n",
    "            tick_name=self.inputs['ticks'][i]\n",
    "            print(f'{i+1}-{tick_name}')\n",
    "     \n",
    "    #Descarga lista de ticks establecida en inputs\n",
    "    def download_ticks(self):\n",
    "        for tick in self.inputs['ticks']:\n",
    "            t=yf.Ticker(tick)\n",
    "            self.ticks[tick]=t\n",
    "    \n",
    "    #Grafica timeseries de tick específico \n",
    "    def tick_value(self,tick):\n",
    "        data=self.ticks[tick].history(period='YTD')\n",
    "        plt.figure(figsize=(12,8))\n",
    "        plt.title(f'{tick} - YTD Historical Close Values')\n",
    "        plt.plot(data.index,data['Close'])\n",
    "        plt.show()\n",
    "    \n",
    "    #Grafica Timeseries de todos los ticks del Portafolio\n",
    "    def ticks_values(self):\n",
    "        plt.figure(figsize=(12,8))\n",
    "        plt.title('Portfolio Ticks - YTD Historical Timeseries')\n",
    "        for tick in self.ticks:\n",
    "            data=self.ticks[tick].history(period='YTD')\n",
    "            plt.plot(data.index,data['Close'],label=tick)\n",
    "        plt.legend()\n",
    "        plt.show()\n",
    "    \n",
    "    #Gráfica timeseries rendimiento tick espécifico\n",
    "    def tick_return(self,tick):\n",
    "        data=self.ticks[tick].history(period='YTD')\n",
    "        data['returns']=data['Close'].pct_change()\n",
    "        plt.figure(figsize=(12,8))\n",
    "        plt.title(f'{tick} - YTD Historical Returns')\n",
    "        plt.plot(data.index,data['returns'])\n",
    "        plt.show()\n",
    "    \n",
    "    #Gráfica returns de todos los ticks del Portafolio \n",
    "    def ticks_returns(self):\n",
    "        plt.figure(figsize=(12,8))\n",
    "        plt.title('Portfolio Ticks - YTD Historical Returns')\n",
    "        for tick in self.ticks:\n",
    "            data=self.ticks[tick].history(period='YTD')\n",
    "            data['returns']=data['Close'].pct_change()\n",
    "            plt.plot(data.index,data['returns'],label=tick)\n",
    "        plt.legend()\n",
    "        plt.show()\n",
    "    \n",
    "    #Obtener información de la Correlacion entre dos ticks\n",
    "    def compare_ticks(self,tick1,tick2):\n",
    "        \n",
    "        #Datos de los Ticks\n",
    "        data_t1=self.ticks[tick1].history(period='YTD')\n",
    "        data_t1['returns']=data_t1['Close'].pct_change()\n",
    "        data_t2=self.ticks[tick2].history(period='YTD')\n",
    "        data_t2['returns']=data_t2['Close'].pct_change()\n",
    "        \n",
    "        #Grafica\n",
    "        plt.figure(figsize=(12,8))\n",
    "        plt.title(f'Correlation of returns between {tick1} and {tick2}')\n",
    "        plt.xlabel(tick1)\n",
    "        plt.ylabel(tick2)\n",
    "        \n",
    "        plt.plot(data_t1['returns'],data_t2['returns'],'*')\n",
    "        \n",
    "        plt.show()\n",
    "        \n",
    "        #correlacion index\n",
    "        corr_index=data_t1['returns'].corr(data_t2['returns'])\n",
    "        \n",
    "        print(f'The Correlation Index between {tick1} and {tick2} is: {corr_index}')\n",
    "        "
   ]
  },
  {
   "cell_type": "markdown",
   "id": "654b2b57-172f-42d8-8cb6-faa6c33c5b83",
   "metadata": {},
   "source": [
    "### Conexión API YahooFinance\n",
    "#### Descargar datos de mercado de Yahoo! API de Finanzas"
   ]
  },
  {
   "cell_type": "code",
   "execution_count": 3,
   "id": "a35645e9-203c-44a7-bb74-5d22bba14316",
   "metadata": {},
   "outputs": [],
   "source": [
    "spy=yf.Ticker('SPY')"
   ]
  },
  {
   "cell_type": "code",
   "execution_count": null,
   "id": "3ef05849-dcbd-4e28-9d0b-f4339193f9bc",
   "metadata": {},
   "outputs": [],
   "source": [
    "spy.info"
   ]
  },
  {
   "cell_type": "markdown",
   "id": "c7075e61-69b7-48dd-a6e0-4e489f3541df",
   "metadata": {},
   "source": [
    "### Aplicación"
   ]
  },
  {
   "cell_type": "code",
   "execution_count": 5,
   "id": "2366430d-582d-4b4d-9270-a9a4066e00d6",
   "metadata": {},
   "outputs": [],
   "source": [
    "parametros={\n",
    "    'portfolio_name':'Leandro portfolio',\n",
    "    'ticks':['SPY','META','AMZN','LIT','URA','TSLA']\n",
    "}"
   ]
  },
  {
   "cell_type": "code",
   "execution_count": 9,
   "id": "54fb1d30-ff6d-4875-887a-e4574bc58b4d",
   "metadata": {},
   "outputs": [
    {
     "name": "stdout",
     "output_type": "stream",
     "text": [
      "Portafolio Activo - Leandro portfolio- activo \n"
     ]
    }
   ],
   "source": [
    "port=portafolio(parametros)"
   ]
  },
  {
   "cell_type": "markdown",
   "id": "92b89a9f-be9c-46cb-ae7a-9516a99ae821",
   "metadata": {},
   "source": [
    "##### Posibles acciones que puedes hacer: "
   ]
  },
  {
   "cell_type": "code",
   "execution_count": 20,
   "id": "8e2d3410-312a-467d-afb0-48c25d2e6e28",
   "metadata": {},
   "outputs": [
    {
     "data": {
      "image/png": "[encoded data removed]",
      "text/plain": [
       "<Figure size 864x576 with 1 Axes>"
      ]
     },
     "metadata": {
      "needs_background": "light"
     },
     "output_type": "display_data"
    },
    {
     "name": "stdout",
     "output_type": "stream",
     "text": [
      "The Correlation Index between SPY and URA is: 0.5942865925468802\n"
     ]
    }
   ],
   "source": [
    "#port.ticks['META'].history(period='YTD')\n",
    "#port.tick_value('META')\n",
    "#port.ticks_values()\n",
    "#port.tick_return('URA')\n",
    "#port.ticks_returns()\n",
    "#port.compare_ticks('SPY','URA')"
   ]
  }
 ],
 "metadata": {
  "kernelspec": {
   "display_name": "Python 3 (ipykernel)",
   "language": "python",
   "name": "python3"
  },
  "language_info": {
   "codemirror_mode": {
    "name": "ipython",
    "version": 3
   },
   "file_extension": ".py",
   "mimetype": "text/x-python",
   "name": "python",
   "nbconvert_exporter": "python",
   "pygments_lexer": "ipython3",
   "version": "3.9.12"
  }
 },
 "nbformat": 4,
 "nbformat_minor": 5
}
